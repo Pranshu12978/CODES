{
 "cells": [
  {
   "cell_type": "markdown",
   "id": "319741c2",
   "metadata": {},
   "source": [
    "# 1"
   ]
  },
  {
   "cell_type": "code",
   "execution_count": 2,
   "id": "d9702ee4",
   "metadata": {},
   "outputs": [
    {
     "data": {
      "text/plain": [
       "30"
      ]
     },
     "execution_count": 2,
     "metadata": {},
     "output_type": "execute_result"
    }
   ],
   "source": [
    "add15=lambda a:a+15\n",
    "add15(15)"
   ]
  },
  {
   "cell_type": "code",
   "execution_count": 3,
   "id": "057c4153",
   "metadata": {},
   "outputs": [
    {
     "data": {
      "text/plain": [
       "60"
      ]
     },
     "execution_count": 3,
     "metadata": {},
     "output_type": "execute_result"
    }
   ],
   "source": [
    "mu=lambda a,b:a*b\n",
    "mu(15,4)"
   ]
  },
  {
   "cell_type": "markdown",
   "id": "f1fba97c",
   "metadata": {},
   "source": [
    "# 2"
   ]
  },
  {
   "cell_type": "code",
   "execution_count": 16,
   "id": "e3baeb8f",
   "metadata": {},
   "outputs": [
    {
     "name": "stdout",
     "output_type": "stream",
     "text": [
      "[('Social sciences', 82), ('English', 88), ('Science', 90), ('Maths', 97)]\n"
     ]
    }
   ],
   "source": [
    "m=[('English', 88), ('Science', 90), ('Maths', 97), ('Social sciences', 82)]\n",
    "m.sort(key=lambda t1:t1[1])\n",
    "print(m)"
   ]
  },
  {
   "cell_type": "markdown",
   "id": "578f5887",
   "metadata": {},
   "source": [
    "# 3"
   ]
  },
  {
   "cell_type": "code",
   "execution_count": 6,
   "id": "66b5d13a",
   "metadata": {},
   "outputs": [
    {
     "name": "stdout",
     "output_type": "stream",
     "text": [
      "[2, 4, 6, 8]\n",
      "[5, 9]\n"
     ]
    }
   ],
   "source": [
    "print(list(filter(lambda x:x%2==0,[2,5,4,6,8,9])))\n",
    "print(list(filter(lambda x:x%2==1,[2,5,4,6,8,9])))"
   ]
  },
  {
   "cell_type": "markdown",
   "id": "004bb65a",
   "metadata": {},
   "source": [
    "# 4"
   ]
  },
  {
   "cell_type": "code",
   "execution_count": 13,
   "id": "5feff32a",
   "metadata": {},
   "outputs": [
    {
     "name": "stdout",
     "output_type": "stream",
     "text": [
      "(100, 400, 100, 400)\n",
      "(1000, 8000, -1000, -8000)\n"
     ]
    }
   ],
   "source": [
    "print(tuple(map(lambda x:x*x,(10,20,-10,-20))))\n",
    "print(tuple(map(lambda x:x*x*x,(10,20,-10,-20))))"
   ]
  },
  {
   "cell_type": "markdown",
   "id": "0e7457d4",
   "metadata": {},
   "source": [
    "# 5"
   ]
  },
  {
   "cell_type": "code",
   "execution_count": null,
   "id": "3c13757e",
   "metadata": {},
   "outputs": [],
   "source": []
  },
  {
   "cell_type": "markdown",
   "id": "2a3c3816",
   "metadata": {},
   "source": [
    "# 6"
   ]
  },
  {
   "cell_type": "code",
   "execution_count": 14,
   "id": "44aca045",
   "metadata": {},
   "outputs": [
    {
     "data": {
      "text/plain": [
       "120"
      ]
     },
     "execution_count": 14,
     "metadata": {},
     "output_type": "execute_result"
    }
   ],
   "source": [
    "import functools as f\n",
    "list1=[1,2,3,4,5]\n",
    "f.reduce(lambda a,b:a*b,list1)"
   ]
  },
  {
   "cell_type": "markdown",
   "id": "0b37212e",
   "metadata": {},
   "source": [
    "# 7"
   ]
  },
  {
   "cell_type": "code",
   "execution_count": 17,
   "id": "da5abe3a",
   "metadata": {},
   "outputs": [
    {
     "name": "stdout",
     "output_type": "stream",
     "text": [
      "\n",
      "Intersection of the said arrays:  [1, 2, 8, 9]\n"
     ]
    }
   ],
   "source": [
    "array_nums1 = [1, 2, 3, 5, 7, 8, 9, 10]\n",
    "array_nums2 = [1, 2, 4, 8, 9]\n",
    "result = list(filter(lambda x: x in array_nums1, array_nums2)) \n",
    "print (\"\\nIntersection of the said arrays: \",result)"
   ]
  },
  {
   "cell_type": "markdown",
   "id": "2f46a69d",
   "metadata": {},
   "source": [
    "# 8"
   ]
  },
  {
   "cell_type": "code",
   "execution_count": 20,
   "id": "df349498",
   "metadata": {},
   "outputs": [
    {
     "name": "stdout",
     "output_type": "stream",
     "text": [
      "4\n",
      "2\n"
     ]
    }
   ],
   "source": [
    "print(len(list(filter(lambda x:x%2==0,[2,5,4,6,8,9]))))\n",
    "print(len(list(filter(lambda x:x%2==1,[2,5,4,6,8,9]))))"
   ]
  },
  {
   "cell_type": "markdown",
   "id": "d5306903",
   "metadata": {},
   "source": [
    "# 9"
   ]
  },
  {
   "cell_type": "code",
   "execution_count": null,
   "id": "2ce3b7d1",
   "metadata": {},
   "outputs": [],
   "source": []
  },
  {
   "cell_type": "markdown",
   "id": "3f0ce712",
   "metadata": {},
   "source": [
    "# 10"
   ]
  },
  {
   "cell_type": "code",
   "execution_count": 22,
   "id": "df1ea880",
   "metadata": {},
   "outputs": [
    {
     "name": "stdout",
     "output_type": "stream",
     "text": [
      "\n",
      "List of palindromes:\n",
      "['php']\n"
     ]
    }
   ],
   "source": [
    "texts = [\"php\", \"w3r\"] \n",
    "result = list(filter(lambda x: (x == \"\".join(reversed(x))), texts)) \n",
    "print(\"\\nList of palindromes:\")\n",
    "print(result) "
   ]
  },
  {
   "cell_type": "markdown",
   "id": "aa7b232b",
   "metadata": {},
   "source": [
    "# 11"
   ]
  },
  {
   "cell_type": "code",
   "execution_count": 25,
   "id": "9403e366",
   "metadata": {},
   "outputs": [
    {
     "name": "stdout",
     "output_type": "stream",
     "text": [
      "\n",
      "List with maximum length of lists:\n",
      "3 [13, 15, 17]\n",
      "\n",
      "List with minimum length of lists:\n",
      "1 [0]\n"
     ]
    }
   ],
   "source": [
    "input_list = [[0], [1, 3], [5, 7], [9, 11], [13, 15, 17]]\n",
    "max_length = max(len(x) for x in input_list )   \n",
    "max_list = max(input_list, key = lambda i: len(i))  \n",
    "print(\"\\nList with maximum length of lists:\")\n",
    "print(max_length, max_list)\n",
    "    \n",
    "min_length = min(len(x) for x in input_list )  \n",
    "min_list = min(input_list, key = lambda i: len(i))\n",
    "print(\"\\nList with minimum length of lists:\")\n",
    "print(min_length, min_list)"
   ]
  },
  {
   "cell_type": "markdown",
   "id": "561b4582",
   "metadata": {},
   "source": [
    "# 12"
   ]
  },
  {
   "cell_type": "code",
   "execution_count": 26,
   "id": "4fe6ea3e",
   "metadata": {},
   "outputs": [
    {
     "name": "stdout",
     "output_type": "stream",
     "text": [
      "3 6 9 12 "
     ]
    }
   ],
   "source": [
    "res=map(lambda a:a*3,[1,2,3,4])\n",
    "for i in res:\n",
    "    print(i,end=\" \")"
   ]
  },
  {
   "cell_type": "markdown",
   "id": "f3237e71",
   "metadata": {},
   "source": [
    "# 13"
   ]
  },
  {
   "cell_type": "code",
   "execution_count": 29,
   "id": "fb063d41",
   "metadata": {},
   "outputs": [
    {
     "name": "stdout",
     "output_type": "stream",
     "text": [
      "\n",
      "New list after adding :\n",
      "[12, 15, 18]\n"
     ]
    }
   ],
   "source": [
    "nums1 = [1, 2, 3] \n",
    "nums2 = [4, 5, 6] \n",
    "nums3 = [7, 8, 9]   \n",
    "result = map(lambda x, y, z: x + y + z, nums1, nums2, nums3) \n",
    "print(\"\\nNew list after adding :\")\n",
    "print(list(result))"
   ]
  },
  {
   "cell_type": "markdown",
   "id": "43412dea",
   "metadata": {},
   "source": [
    "# 14"
   ]
  },
  {
   "cell_type": "code",
   "execution_count": 31,
   "id": "0febc172",
   "metadata": {},
   "outputs": [
    {
     "name": "stdout",
     "output_type": "stream",
     "text": [
      "\n",
      "After listify the list of strings are:\n",
      "[['R', 'e', 'd'], ['B', 'l', 'u', 'e'], ['B', 'l', 'a', 'c', 'k']]\n"
     ]
    }
   ],
   "source": [
    "color = ['Red', 'Blue', 'Black'] \n",
    "print(\"\\nAfter listify the list of strings are:\") \n",
    "result = list(map(list, color)) \n",
    "print(result)"
   ]
  },
  {
   "cell_type": "markdown",
   "id": "47e3f915",
   "metadata": {},
   "source": [
    "# 14"
   ]
  },
  {
   "cell_type": "code",
   "execution_count": 1,
   "id": "d4c3d610",
   "metadata": {},
   "outputs": [
    {
     "name": "stdout",
     "output_type": "stream",
     "text": [
      "[['h', 'e', 'l', 'l', 'o'], ['w', 'o', 'r', 'l', 'd'], ['p', 'y', 't', 'h', 'o', 'n']]\n"
     ]
    }
   ],
   "source": [
    "# Define the list of strings\n",
    "string_list = ['hello', 'world', 'python']\n",
    "\n",
    "# Define the listify function to convert each string to a list\n",
    "def listify(string):\n",
    "    return list(string)\n",
    "\n",
    "# Use map to apply the listify function to each string in the list\n",
    "listified_strings = list(map(listify, string_list))\n",
    "\n",
    "# Print the listified strings\n",
    "print(listified_strings)"
   ]
  },
  {
   "cell_type": "markdown",
   "id": "1f0137ab",
   "metadata": {},
   "source": [
    "# 15"
   ]
  },
  {
   "cell_type": "code",
   "execution_count": 3,
   "id": "be81cf59",
   "metadata": {},
   "outputs": [
    {
     "name": "stdout",
     "output_type": "stream",
     "text": [
      "[1, 3, 16, 125]\n"
     ]
    }
   ],
   "source": [
    "# Define the list of bases\n",
    "base_list = [2, 3, 4, 5]\n",
    "\n",
    "# Define the powers function to calculate the power of a base raised to an index\n",
    "def powers(base, index):\n",
    "    return base ** index\n",
    "\n",
    "# Use map to apply the powers function to each base and its corresponding index\n",
    "power_list = list(map(powers, base_list, range(len(base_list))))\n",
    "\n",
    "# Print the resulting list of powers\n",
    "print(power_list)\n"
   ]
  },
  {
   "cell_type": "markdown",
   "id": "6cdc5a86",
   "metadata": {},
   "source": [
    "# 16"
   ]
  },
  {
   "cell_type": "code",
   "execution_count": 4,
   "id": "605187fb",
   "metadata": {},
   "outputs": [
    {
     "name": "stdout",
     "output_type": "stream",
     "text": [
      "['D', 'E', 'R', 'O', 'P', 'T', 'L', 'Y', 'H', 'N', 'W']\n",
      "['e', 'o', 'h', 't', 'd', 'p', 'n', 'w', 'r', 'l', 'y']\n"
     ]
    }
   ],
   "source": [
    "# Define the input sequence\n",
    "input_sequence = 'helloWORLDpython'\n",
    "\n",
    "# Define the uppercase and lowercase functions to convert the characters\n",
    "def uppercase(char):\n",
    "    return char.upper()\n",
    "\n",
    "def lowercase(char):\n",
    "    return char.lower()\n",
    "\n",
    "# Use map to apply the uppercase and lowercase functions to each character in the sequence\n",
    "uppercase_list = list(map(uppercase, input_sequence))\n",
    "lowercase_list = list(map(lowercase, input_sequence))\n",
    "\n",
    "# Use set to eliminate duplicates from each list\n",
    "unique_uppercase_list = list(set(uppercase_list))\n",
    "unique_lowercase_list = list(set(lowercase_list))\n",
    "\n",
    "# Print the resulting lists of unique uppercase and lowercase characters\n",
    "print(unique_uppercase_list)\n",
    "print(unique_lowercase_list)\n"
   ]
  },
  {
   "cell_type": "markdown",
   "id": "eef01f8a",
   "metadata": {},
   "source": [
    "# 17"
   ]
  },
  {
   "cell_type": "code",
   "execution_count": 5,
   "id": "87f3ed1c",
   "metadata": {},
   "outputs": [
    {
     "name": "stdout",
     "output_type": "stream",
     "text": [
      "['1', '2', '3', '4', '5']\n",
      "['6', '7', '8', '9', '10']\n"
     ]
    }
   ],
   "source": [
    "# Define the list of integers and the tuple of integers\n",
    "int_list = [1, 2, 3, 4, 5]\n",
    "int_tuple = (6, 7, 8, 9, 10)\n",
    "\n",
    "# Use map to convert each integer to a string\n",
    "str_list = list(map(str, int_list))\n",
    "str_tuple = list(map(str, int_tuple))\n",
    "\n",
    "# Print the resulting lists of strings\n",
    "print(str_list)\n",
    "print(str_tuple)\n"
   ]
  },
  {
   "cell_type": "markdown",
   "id": "3af96130",
   "metadata": {},
   "source": [
    "# 18"
   ]
  },
  {
   "cell_type": "code",
   "execution_count": 6,
   "id": "79ba9f0f",
   "metadata": {},
   "outputs": [
    {
     "name": "stdout",
     "output_type": "stream",
     "text": [
      "[1, 3, 5]\n"
     ]
    }
   ],
   "source": [
    "# Define the tuple of elements and string value\n",
    "my_tuple = (1, '2', 3, '4', 5)\n",
    "my_string = '6'\n",
    "\n",
    "# Define the indices of the elements we want to extract from the tuple\n",
    "indices = [0, 2, 4]\n",
    "\n",
    "# Use map to extract the specified elements from the tuple and convert the string to an integer\n",
    "new_list = list(map(lambda i: int(my_tuple[i]) if i < len(my_tuple) else int(my_string), indices))\n",
    "\n",
    "# Print the resulting list\n",
    "print(new_list)\n"
   ]
  },
  {
   "cell_type": "markdown",
   "id": "5712b566",
   "metadata": {},
   "source": [
    "# 19"
   ]
  },
  {
   "cell_type": "code",
   "execution_count": 7,
   "id": "c513c98b",
   "metadata": {},
   "outputs": [
    {
     "name": "stdout",
     "output_type": "stream",
     "text": [
      "[{'key1': 1, 'key2': 'a', 'key3': True}, {'key1': 2, 'key2': 'b', 'key3': False}, {'key1': 3, 'key2': 'c', 'key3': True}]\n"
     ]
    }
   ],
   "source": [
    "# Define the dictionary of lists\n",
    "my_dict = {'key1': [1, 2, 3], 'key2': ['a', 'b', 'c'], 'key3': [True, False, True]}\n",
    "\n",
    "# Use map to split the dictionary into a list of dictionaries\n",
    "list_of_dicts = list(map(lambda x: {k: v for k, v in zip(my_dict.keys(), x)}, zip(*my_dict.values())))\n",
    "\n",
    "# Print the resulting list of dictionaries\n",
    "print(list_of_dicts)\n"
   ]
  },
  {
   "cell_type": "markdown",
   "id": "f5750f5c",
   "metadata": {},
   "source": [
    "# 20"
   ]
  },
  {
   "cell_type": "code",
   "execution_count": 8,
   "id": "80fe1106",
   "metadata": {},
   "outputs": [
    {
     "name": "stdout",
     "output_type": "stream",
     "text": [
      "['John is 25 years old', 'Mary is 30 years old', 'Bob is 20 years old']\n"
     ]
    }
   ],
   "source": [
    "# Define the list of tuples\n",
    "my_list = [('John', 25), ('Mary', 30), ('Bob', 20)]\n",
    "\n",
    "# Use map to convert each tuple to a string\n",
    "str_list = list(map(lambda x: f'{x[0]} is {x[1]} years old', my_list))\n",
    "\n",
    "# Print the resulting list of strings\n",
    "print(str_list)\n"
   ]
  },
  {
   "cell_type": "code",
   "execution_count": null,
   "id": "166f3b4e",
   "metadata": {},
   "outputs": [],
   "source": []
  }
 ],
 "metadata": {
  "kernelspec": {
   "display_name": "Python 3 (ipykernel)",
   "language": "python",
   "name": "python3"
  },
  "language_info": {
   "codemirror_mode": {
    "name": "ipython",
    "version": 3
   },
   "file_extension": ".py",
   "mimetype": "text/x-python",
   "name": "python",
   "nbconvert_exporter": "python",
   "pygments_lexer": "ipython3",
   "version": "3.9.13"
  }
 },
 "nbformat": 4,
 "nbformat_minor": 5
}
